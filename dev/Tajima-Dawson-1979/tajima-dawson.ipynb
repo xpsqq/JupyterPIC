{
 "cells": [
  {
   "cell_type": "markdown",
   "metadata": {},
   "source": [
    "# Tajima and Dawson\n",
    "## (Rev: 05/08/2019)\n",
    "\n",
    "LWFA Workbook I\n",
    "\n",
    "This is the first in a series of workbooks on laser wakefield acceleration (LWFA). This first notebook enables one to reproduce the simulations of T. Tajima and J. M. Dawson, \"Laser Electron Accelerator.\" Phys. Rev. Lett. **43**, 267 (1979) which has now been cited over 4300 times. The notebook will also enable you to experiment with parameters beyond the original paper and prepare you for a follow up notebook (workbook II) that will enable you to study aspects of 1D LWFA including how the wake is excited, how the wake amplitude depends on the laser amplitude and shape, how the electron energy depends on the ratio of the laser and plasma frequency, and how the acceleration length depends on the dephasing of the electron and the wake and on the pump depletion of the laser."
   ]
  },
  {
   "cell_type": "markdown",
   "metadata": {},
   "source": [
    "In the original work of Tajima and Dawson the laser is intialized inside a plasma (both the electric and magnetic field and the plasma currents based on the linear dispersion relation). The laser pulse shape is rectangular (there are sharp rise and fall times and amplitude is constant over the defined pulse length). The laser is then allowed to propagate through the plasma. For numerical reasons the plasma has a high initial temperature of about 20keV, $kT_e/mc^2=(v_e/c)^2$ where $v_e/c=.2$. It is stated that the simulations \"typically\" use 512 cells with 10 plasma electrons per cell (the ions are a uniform neutralizing background). The cell size is chosen to be $\\Delta=\\lambda_0/15$ where $\\lambda_0$ is the wavelength of the laser inside the plasma. The amplitude of the laser is chosen to be $eE_0/mc\\omega_0=eA_0/mc^2=1$ where $\\omega_0$ is the frequency of the laser assuming the linear dispersion is correct. The duration of the laser was chosen to be $c \\tau_0=\\pi c/\\omega_p$. It is initialized between the $50\\Delta$ and $81.4\\Delta$ and it moves towards higher cell number.  The ratio $\\omega_0/\\omega_p$ can be obtained from the linear dispersion relation $D.R.$ where $c/\\omega_p\\Delta \\equiv \\bar c$ is what Tajima and Dawson call the \"speed of light\" for their simulation code. \n",
    "\n",
    "However, there is not sufficient detail to know when the simulations used \"typical\" parameters. We have assumed that the cell size was always chosen to be 1/15 of the laser wavelengtgh. We have then done our best to choose the number of cells and simulation length to \"reproduce\" the figures in the paper. However, we do not expect the agreement to be \"perfect\" and we stress that some of the parameters were chosen to to limiations of the simulations that no longer exist today. For example, they used a temperature of 20keV to avoid a numerical instability and they used a code they used a code based on using FFTs so that they always used a cell number that is a muliple of two so they did not have that much flexibility on the number of cells and simulation length.  \n",
    "\n",
    "We begin by summarizing the parameters discussed in Tajima and Dawson for their 1D simulations:\n",
    "\n",
    "* $L_x = 512\\Delta$\n",
    "* $v_e = .2 c$\n",
    "* $k_x = 2\\pi / 15\\Delta$\n",
    "* number of electrons = 5120\n",
    "* particle size = $1\\Delta$\n",
    "\n",
    "where:\n",
    "* $\\Delta$ is the cell size\n",
    "* $v_e \\equiv \\sqrt {kT_e/m}$ is the electron thermal speed\n",
    "\n",
    "The following relations are kept fixed:\n",
    "* $eE_0/m\\omega = eB_0/m\\omega = c$\n",
    "* $L_t =c\\tau_0 = \\pi c/\\omega_p$\n",
    "* $p_0 = eE_0/\\omega$\n",
    "* $\\omega/\\omega_p = (1 + k_x^2c^2)^{1/2}=(1+(\\bar c 2\\pi/15)^2)^{1/2}$\n",
    "\n",
    "where:\n",
    "* $E_0$ and $B_0$ are the pump wave electric and magnetic field amplitudes\n",
    "* $p_0$ is the corresponding amplitude for the momentum modulation\n",
    "\n",
    "The laser is intialized via using:\n",
    "* $E_y = E_0\\sin k_x(x-x_0)$\n",
    "* $B_z = B_0\\sin k_x(x-x_0)$\n",
    "* $p_y = p^{random}+p_0\\cos k_x(x-x_0)$\n",
    "\n"
   ]
  },
  {
   "cell_type": "markdown",
   "metadata": {},
   "source": [
    "The four cases run in Tajima Dawson varied the ratio of $\\omega_0/\\omega_p$ and the simulation length in units of $c/\\omega_p$ by varying $\\bar c =(5, 7.25, 10, 14.7)$.\n",
    "\n",
    "\n",
    "So the four cases correspond to:\n",
    "\n",
    "* $\\omega_0/\\omega_p =(2.32, 3.30, 4.31, 6.24)$\n",
    "\n",
    "We guess that for these cases Tajima and Dawson used:\n",
    "\n",
    "* $L_x \\omega_p/c=(102.4, 102.4, 102.4, 139.264)$.\n"
   ]
  },
  {
   "cell_type": "markdown",
   "metadata": {},
   "source": [
    "You are going to try to reproduce the Tajima and Dawson results using OSIRIS. In OSIRIS we use a different set of normalizations and we launch the laser from vacuum into the plasma. So the laser frquency is specified and the wavelength (wave number) self-consistently adjusts itself inside the plasma. In OSIRIS the particle shapes are sometimes smoother and a bit wider in terms of the cell that those used Tajima Dawson and this allows us to use lower temperatures."
   ]
  },
  {
   "cell_type": "markdown",
   "metadata": {},
   "source": [
    "OSIRIS simulations are done in normalized units. \n",
    "\n",
    "* Time:  $t' = t \\omega_{p}$\n",
    "\n",
    "* Frequency: $\\omega' = \\frac{\\omega}{\\omega_{p}}$ \n",
    "\n",
    "* Position: $\\vec{x}' = \\frac{\\omega_{p}}{c} \\vec{x}$  \n",
    "\n",
    "* Momenta: $\\vec{u}' = \\frac{\\vec{p}}{m_{e} c} = \\frac{\\vec{\\gamma v}}{c} = \\frac{\\vec{u}} {c}$  \n",
    "\n",
    "* Electric field: $\\vec{E}' = e \\frac{c / \\omega_{p}}{m_{e} c^2} \\vec{E}$  \n",
    "\n",
    "* Magnetic field: $\\vec{B}' = e \\frac{c / \\omega_{p}}{m_{e} c^2} \\vec{B}$  \n"
   ]
  },
  {
   "cell_type": "markdown",
   "metadata": {},
   "source": [
    "To try to \"reproduce\" the simulations in Tajima and Dawson with OSIRIS you should first try the following (they are actually already set up as cases A,B,C, and D which have the following parameters (note that because we are limited by multiple of two the number of cells we use different values than they may have used)  :\n",
    "\n",
    "|   Normalized Sim Parameter\t| Case A   \t| Case B   \t| Case C   \t| Case D   \t|\n",
    "| --------- | ---------\t| --------- | --------- | --------- |\n",
    "| $\\omega_0/\\omega_p$  \t|   2.32\t|   3.30\t|   4.31\t|   6.24\t|\n",
    "| $ (n_0)$   |1|1|1|1|\n",
    "| $a_{0}$  \t|   1\t|   1\t|   1\t|   1\t|\n",
    "|  $L_x \\omega_p/c$ \t|   102.4\t|   102.4\t|   102.4\t|   139.264\t|\n",
    "| $N_{cells}$ | 512 | 750 | 1024 |2048 |\n",
    "| $\\omega_p \\Delta /c = N_{x}/L_{x}$ | .2 | .137 | .1 | .068 |\n",
    "| $\\omega_0 \\Delta /c$ | .464 | .456 | .431 | .424 |\n",
    "| $N_{pcell}$ | 10 | 10 | 10 | 10 |\n",
    "| $v_{th} / c$ | 0.2 | 0.2 | 0.2 | 0.2 |\n",
    "| $\\omega_p \\Delta t$ | .19 | .135 | .099 | .067 |\n",
    "| $\\omega_0 \\Delta t$ | .45 | .45 | .43 | .42 |\n",
    "| $\\omega_P \\tau_{rise}$ | 0 | 0 | 0 | 0 |\n",
    "| $\\omega_P \\tau_{flat}$ | $\\pi$ | $\\pi$ | $\\pi$ | $\\pi$ |\n",
    "| $\\omega_P \\tau_{fall}$ | 0 | 0 | 0 | 0 |\n",
    "\n",
    "Although not needed to reproduce the Tajima and Dawson results we define $\\tau_{rise}$ and $\\tau_{fall}$ for exploration. The rise (and fall) of the laser amplitude (not intensity) is given by $eA/mc^2=a_0 [10 (t/\\tau_{rise})^3-15(t/\\tau_{rise})^4+6(t/\\tau_{rise})^5]$. We have interpreted the paper to the best of our ability to determine the simulation parameters. As an open source project, we hope that users of this notebook will provide feedback including comments regarding how slight changes to the input parameters may lead to better agreement."
   ]
  },
  {
   "cell_type": "code",
   "execution_count": 1,
   "metadata": {},
   "outputs": [],
   "source": [
    "# **********************************\n",
    "# First Run This Cell to \n",
    "# import the necessary libraries\n",
    "# **********************************\n",
    "#\n",
    "# Please run this cell before running anything, and run this cell again if you have restarted the \n",
    "# python kernel.\n",
    "#\n",
    "# This cell imports useful routines to diagnose the simulations here\n",
    "#\n",
    "\n",
    "%matplotlib inline\n",
    "import osiris\n",
    "from osiris import tajima\n",
    "from tajima_helper import plot_maxgamma_t, newifile, newifile2, laser_envelope, tajima_widget, tajima_moving_widget, xt_and_energy_plot\n",
    "import numpy as np\n",
    "import matplotlib.pyplot as plt\n",
    "from osh5vis import osplot\n",
    "from osh5io import read_h5\n",
    "from osh5utils import fft\n",
    "from ipywidgets import interact_manual,Layout,interact, FloatSlider\n",
    "import ipywidgets as widgets\n",
    "interact_calc=interact_manual.options(manual_name=\"Make New Input and Run\")"
   ]
  },
  {
   "cell_type": "markdown",
   "metadata": {},
   "source": [
    "## Here we illustrate and explore the OSIRIS pulse shape"
   ]
  },
  {
   "cell_type": "code",
   "execution_count": 2,
   "metadata": {},
   "outputs": [
    {
     "data": {
      "application/vnd.jupyter.widget-view+json": {
       "model_id": "632afe8de5cc4f3692a91001393a3361",
       "version_major": 2,
       "version_minor": 0
      },
      "text/plain": [
       "interactive(children=(FloatSlider(value=1.57, description='$t_{rise}$', max=5.0, step=0.05), FloatSlider(value…"
      ]
     },
     "metadata": {},
     "output_type": "display_data"
    }
   ],
   "source": [
    "# This cell shows the laser envelope shape for given t_rise, t_fall, and Lt.  \n",
    "#\n",
    "interact(laser_envelope, trise=FloatSlider(min=0.00, max=5, step=.05, description='$t_{rise}$', value = 1.57),\n",
    "         tflat=FloatSlider(min=0.00, max=5, step=.05, description='$Lt$', value = 0),\n",
    "         tfall=FloatSlider(min=0.00, max=5, step=.05, description='$t_{fall}$', value = 1.57));"
   ]
  },
  {
   "cell_type": "markdown",
   "metadata": {},
   "source": [
    "### Below we use a fixed box to run the four simulations from the paper."
   ]
  },
  {
   "cell_type": "code",
   "execution_count": 3,
   "metadata": {
    "scrolled": false
   },
   "outputs": [
    {
     "name": "stdout",
     "output_type": "stream",
     "text": [
      "runosiris completed normally\n",
      "max gamma =  2.3711343527203264\n"
     ]
    }
   ],
   "source": [
    "## Hit <shift>+<return> to run case A\n",
    "\n",
    "dirname = 'casea-fixed'\n",
    "osiris.runosiris(rundir=dirname,inputfile='casea-fixed.txt')\n",
    "plot_maxgamma_t(dirname)"
   ]
  },
  {
   "cell_type": "markdown",
   "metadata": {},
   "source": [
    "Run the next cell to look at the results of the simulation. Click along the slider to see later timesteps. "
   ]
  },
  {
   "cell_type": "code",
   "execution_count": 4,
   "metadata": {},
   "outputs": [
    {
     "data": {
      "application/vnd.jupyter.widget-view+json": {
       "model_id": "379e473c063e4119beb1fe34ab7699ca",
       "version_major": 2,
       "version_minor": 0
      },
      "text/plain": [
       "interactive(children=(IntSlider(value=0, description='file_no', max=630, step=5), Output()), _dom_classes=('wi…"
      ]
     },
     "metadata": {},
     "output_type": "display_data"
    }
   ],
   "source": [
    "## Hit <shift>+<return> to visualize case A\n",
    "\n",
    "dirname = './casea-fixed'\n",
    "tajima(rundir=dirname)"
   ]
  },
  {
   "cell_type": "code",
   "execution_count": 5,
   "metadata": {
    "scrolled": false
   },
   "outputs": [
    {
     "name": "stdout",
     "output_type": "stream",
     "text": [
      "runosiris completed normally\n",
      "max gamma =  16.73872173170574\n"
     ]
    }
   ],
   "source": [
    "## Hit <shift>+<return> to run case B\n",
    "\n",
    "dirname = 'caseb-fixed'\n",
    "osiris.runosiris(rundir=dirname,inputfile='caseb-fixed.txt')\n",
    "plot_maxgamma_t(dirname) "
   ]
  },
  {
   "cell_type": "code",
   "execution_count": 6,
   "metadata": {},
   "outputs": [
    {
     "data": {
      "application/vnd.jupyter.widget-view+json": {
       "model_id": "28aa11bf02924418bf03173efca043aa",
       "version_major": 2,
       "version_minor": 0
      },
      "text/plain": [
       "interactive(children=(IntSlider(value=0, description='file_no', max=885, step=5), Output()), _dom_classes=('wi…"
      ]
     },
     "metadata": {},
     "output_type": "display_data"
    }
   ],
   "source": [
    "## Hit <shift>+<return> to visualize case B\n",
    "\n",
    "dirname = './caseb-fixed'\n",
    "tajima(rundir=dirname)"
   ]
  },
  {
   "cell_type": "code",
   "execution_count": 7,
   "metadata": {
    "scrolled": false
   },
   "outputs": [
    {
     "name": "stdout",
     "output_type": "stream",
     "text": [
      "runosiris completed normally\n",
      "max gamma =  26.772573784110747\n"
     ]
    }
   ],
   "source": [
    "## Hit <shift>+<return> to run case C\n",
    "\n",
    "dirname = 'casec-fixed'\n",
    "osiris.runosiris(rundir=dirname,inputfile='casec-fixed.txt')\n",
    "plot_maxgamma_t(dirname)    "
   ]
  },
  {
   "cell_type": "code",
   "execution_count": 8,
   "metadata": {},
   "outputs": [
    {
     "data": {
      "application/vnd.jupyter.widget-view+json": {
       "model_id": "003992a5925a4220b2fa95f4e3ab5bf7",
       "version_major": 2,
       "version_minor": 0
      },
      "text/plain": [
       "interactive(children=(IntSlider(value=0, description='file_no', max=1210, step=5), Output()), _dom_classes=('w…"
      ]
     },
     "metadata": {},
     "output_type": "display_data"
    }
   ],
   "source": [
    "## Hit <shift>+<return> to visualize case C\n",
    "\n",
    "dirname = './casec-fixed'\n",
    "tajima(rundir=dirname)"
   ]
  },
  {
   "cell_type": "code",
   "execution_count": 9,
   "metadata": {
    "scrolled": false
   },
   "outputs": [
    {
     "name": "stdout",
     "output_type": "stream",
     "text": [
      "runosiris completed normally\n",
      "max gamma =  44.50502852334382\n"
     ]
    }
   ],
   "source": [
    "## Hit <shift>+<return> to run case D\n",
    "\n",
    "dirname = 'cased-fixed'\n",
    "osiris.runosiris(rundir=dirname,inputfile='cased-fixed.txt')\n",
    "plot_maxgamma_t(dirname)    "
   ]
  },
  {
   "cell_type": "code",
   "execution_count": 10,
   "metadata": {},
   "outputs": [
    {
     "data": {
      "application/vnd.jupyter.widget-view+json": {
       "model_id": "0e449cca522641439a8f1fa70ea24a95",
       "version_major": 2,
       "version_minor": 0
      },
      "text/plain": [
       "interactive(children=(IntSlider(value=0, description='file_no', max=2235, step=5), Output()), _dom_classes=('w…"
      ]
     },
     "metadata": {},
     "output_type": "display_data"
    }
   ],
   "source": [
    "## Hit <shift>+<return> to visualize case D\n",
    "\n",
    "dirname = './cased-fixed'\n",
    "tajima(rundir=dirname)"
   ]
  },
  {
   "cell_type": "markdown",
   "metadata": {},
   "source": [
    "## In the next cell we try to replicate Figure 2a in the paper."
   ]
  },
  {
   "cell_type": "code",
   "execution_count": 11,
   "metadata": {},
   "outputs": [
    {
     "data": {
      "image/png": "[encoded data removed]",
      "text/plain": [
       "<Figure size 576x576 with 1 Axes>"
      ]
     },
     "metadata": {
      "needs_background": "light"
     },
     "output_type": "display_data"
    }
   ],
   "source": [
    "dirname = './casec-fixed'\n",
    "plt.figure(figsize=(8,8))\n",
    "osplot(np.abs(fft(read_h5(dirname+'/MS/FLD/e2/e2-000040.h5'))), xlim=[0, 8], ylim=[0, 100],linestyle='-')\n",
    "osplot(np.abs(fft(read_h5(dirname+'/MS/FLD/e2/e2-000490.h5'))), xlim=[0, 8], ylim=[0, 100],linestyle='-.')\n",
    "osplot(np.abs(fft(read_h5(dirname+'/MS/FLD/e2/e2-001050.h5'))), xlim=[0, 8], ylim=[0, 100],linewidth=3)\n",
    "plt.title('$E_2$ from Case C')\n",
    "plt.legend(['t=4.0', 't=45', 't=100'])\n",
    "plt.show()"
   ]
  },
  {
   "cell_type": "markdown",
   "metadata": {},
   "source": [
    "### Simulation Sandbox --- Make your own simulation\n",
    "\n",
    "In the widget below, enter these parameters and a name for the output. When the button is clicked, the function will run OSIRIS and print the maximum electron energy achieved. The output is saved in a directory with the same name as the output text file. \n",
    "\n",
    "There is the option below to make advanced changes to the input deck but the default values will match the simulations in the paper."
   ]
  },
  {
   "cell_type": "code",
   "execution_count": 12,
   "metadata": {},
   "outputs": [
    {
     "name": "stdout",
     "output_type": "stream",
     "text": [
      "d=FloatText(value=1.0, description='a0:', layout=Layout(width='55%'), style=DescriptionStyle(description_width='350px'))\n"
     ]
    },
    {
     "data": {
      "application/vnd.jupyter.widget-view+json": {
       "model_id": "f47f209f40874efc8845a14d1d342841",
       "version_major": 2,
       "version_minor": 0
      },
      "text/plain": [
       "interactive(children=(Text(value='casec-fixed.txt', description='Template Input File:', layout=Layout(width='5…"
      ]
     },
     "metadata": {},
     "output_type": "display_data"
    }
   ],
   "source": [
    "## Hit <shift>+<return> to start the widget, which contains a interface to change OSIRIS parameters\n",
    "\n",
    "tajima_widget()"
   ]
  },
  {
   "cell_type": "code",
   "execution_count": 13,
   "metadata": {},
   "outputs": [
    {
     "ename": "FileNotFoundError",
     "evalue": "[Errno 2] No such file or directory: '/home/jovyan/dev/Tajima-Dawson-1979/./case1/MS/PHA/p1x1/electrons/'",
     "output_type": "error",
     "traceback": [
      "\u001b[0;31m---------------------------------------------------------------------------\u001b[0m",
      "\u001b[0;31mFileNotFoundError\u001b[0m                         Traceback (most recent call last)",
      "\u001b[0;32m<ipython-input-13-c06bfd779739>\u001b[0m in \u001b[0;36m<module>\u001b[0;34m\u001b[0m\n\u001b[1;32m      2\u001b[0m \u001b[0;34m\u001b[0m\u001b[0m\n\u001b[1;32m      3\u001b[0m \u001b[0mdirname\u001b[0m \u001b[0;34m=\u001b[0m \u001b[0;34m'./case1'\u001b[0m\u001b[0;34m\u001b[0m\u001b[0;34m\u001b[0m\u001b[0m\n\u001b[0;32m----> 4\u001b[0;31m \u001b[0mtajima\u001b[0m\u001b[0;34m(\u001b[0m\u001b[0mrundir\u001b[0m\u001b[0;34m=\u001b[0m\u001b[0mdirname\u001b[0m\u001b[0;34m)\u001b[0m\u001b[0;34m\u001b[0m\u001b[0;34m\u001b[0m\u001b[0m\n\u001b[0m",
      "\u001b[0;32m/usr/local/osiris/osiris.py\u001b[0m in \u001b[0;36mtajima\u001b[0;34m(rundir)\u001b[0m\n\u001b[1;32m   1886\u001b[0m     \u001b[0mworking_dir\u001b[0m\u001b[0;34m=\u001b[0m\u001b[0mmy_path\u001b[0m\u001b[0;34m+\u001b[0m\u001b[0;34m'/'\u001b[0m\u001b[0;34m+\u001b[0m\u001b[0mrundir\u001b[0m\u001b[0;34m\u001b[0m\u001b[0;34m\u001b[0m\u001b[0m\n\u001b[1;32m   1887\u001b[0m     \u001b[0mphase_space_dir\u001b[0m\u001b[0;34m=\u001b[0m\u001b[0mworking_dir\u001b[0m\u001b[0;34m+\u001b[0m\u001b[0;34m'/MS/PHA/p1x1/electrons/'\u001b[0m\u001b[0;34m\u001b[0m\u001b[0;34m\u001b[0m\u001b[0m\n\u001b[0;32m-> 1888\u001b[0;31m     \u001b[0mfiles\u001b[0m\u001b[0;34m=\u001b[0m\u001b[0msorted\u001b[0m\u001b[0;34m(\u001b[0m\u001b[0mos\u001b[0m\u001b[0;34m.\u001b[0m\u001b[0mlistdir\u001b[0m\u001b[0;34m(\u001b[0m\u001b[0mphase_space_dir\u001b[0m\u001b[0;34m)\u001b[0m\u001b[0;34m)\u001b[0m\u001b[0;34m\u001b[0m\u001b[0;34m\u001b[0m\u001b[0m\n\u001b[0m\u001b[1;32m   1889\u001b[0m     \u001b[0;31m#print(files[1])\u001b[0m\u001b[0;34m\u001b[0m\u001b[0;34m\u001b[0m\u001b[0;34m\u001b[0m\u001b[0m\n\u001b[1;32m   1890\u001b[0m     \u001b[0mstart\u001b[0m\u001b[0;34m=\u001b[0m\u001b[0mfiles\u001b[0m\u001b[0;34m[\u001b[0m\u001b[0;36m1\u001b[0m\u001b[0;34m]\u001b[0m\u001b[0;34m.\u001b[0m\u001b[0mfind\u001b[0m\u001b[0;34m(\u001b[0m\u001b[0;34m'p1x1-electrons'\u001b[0m\u001b[0;34m)\u001b[0m\u001b[0;34m+\u001b[0m\u001b[0;36m16\u001b[0m\u001b[0;34m\u001b[0m\u001b[0;34m\u001b[0m\u001b[0m\n",
      "\u001b[0;31mFileNotFoundError\u001b[0m: [Errno 2] No such file or directory: '/home/jovyan/dev/Tajima-Dawson-1979/./case1/MS/PHA/p1x1/electrons/'"
     ]
    }
   ],
   "source": [
    "# Here we can examine the simulation that we just made with the widget\n",
    "\n",
    "dirname = './case1'\n",
    "tajima(rundir=dirname)"
   ]
  },
  {
   "cell_type": "markdown",
   "metadata": {},
   "source": [
    "## Moving Window Cases"
   ]
  },
  {
   "cell_type": "code",
   "execution_count": null,
   "metadata": {
    "scrolled": false
   },
   "outputs": [],
   "source": [
    "## Hit <shift>+<return> to run\n",
    "\n",
    "dirname = 'casea-moving-24'\n",
    "osiris.runosiris(rundir=dirname,inputfile='casea-moving-24.txt')\n",
    "plot_maxgamma_t(dirname)    "
   ]
  },
  {
   "cell_type": "code",
   "execution_count": null,
   "metadata": {},
   "outputs": [],
   "source": [
    "dirname = './casea-moving-24'\n",
    "tajima(rundir=dirname)"
   ]
  },
  {
   "cell_type": "code",
   "execution_count": null,
   "metadata": {
    "scrolled": false
   },
   "outputs": [],
   "source": [
    "## Hit <shift>+<return> to run\n",
    "\n",
    "dirname = 'caseb-moving-24'\n",
    "osiris.runosiris(rundir=dirname,inputfile='caseb-moving-24.txt')\n",
    "plot_maxgamma_t(dirname)    "
   ]
  },
  {
   "cell_type": "code",
   "execution_count": null,
   "metadata": {},
   "outputs": [],
   "source": [
    "## Hit <shift>+<return> to look at results\n",
    "\n",
    "dirname = './caseb-moving-24'\n",
    "tajima(rundir=dirname)"
   ]
  },
  {
   "cell_type": "code",
   "execution_count": null,
   "metadata": {
    "scrolled": false
   },
   "outputs": [],
   "source": [
    "## Hit <shift>+<return> to run\n",
    "\n",
    "dirname = 'casec-moving-24'\n",
    "osiris.runosiris(rundir=dirname,inputfile='casec-moving-24.txt')\n",
    "plot_maxgamma_t(dirname)  "
   ]
  },
  {
   "cell_type": "code",
   "execution_count": null,
   "metadata": {},
   "outputs": [],
   "source": [
    "## Hit <shift>+<return> to look at results\n",
    "\n",
    "dirname = './casec-moving-24'\n",
    "tajima(rundir=dirname)"
   ]
  },
  {
   "cell_type": "code",
   "execution_count": null,
   "metadata": {
    "scrolled": false
   },
   "outputs": [],
   "source": [
    "## Hit <shift>+<return> to run\n",
    "\n",
    "dirname = 'cased-moving-24'\n",
    "osiris.runosiris(rundir=dirname,inputfile='cased-moving-24.txt')\n",
    "plot_maxgamma_t(dirname)    "
   ]
  },
  {
   "cell_type": "code",
   "execution_count": null,
   "metadata": {},
   "outputs": [],
   "source": [
    "## Hit <shift>+<return> to look at results\n",
    "\n",
    "dirname = './cased-moving-24'\n",
    "tajima(rundir=dirname)"
   ]
  },
  {
   "cell_type": "markdown",
   "metadata": {},
   "source": [
    "## Simulation Sandbox, with moving window\n",
    "The cell below allows you to explore different parameters with a moving window."
   ]
  },
  {
   "cell_type": "code",
   "execution_count": null,
   "metadata": {},
   "outputs": [],
   "source": [
    "## Hit <shift>+<return> to start the widget, which contains a interface to change OSIRIS parameters\n",
    "\n",
    "tajima_moving_widget()"
   ]
  },
  {
   "cell_type": "code",
   "execution_count": null,
   "metadata": {},
   "outputs": [],
   "source": [
    "## Hit <shift>+<return> to look at results\n",
    "\n",
    "dirname = './case1-moving'\n",
    "tajima(rundir=dirname)"
   ]
  },
  {
   "cell_type": "code",
   "execution_count": null,
   "metadata": {},
   "outputs": [],
   "source": [
    "dirname = './case1-moving'\n",
    "xt_and_energy_plot(rundir=dirname, field = 'e2')\n",
    "xt_and_energy_plot(rundir=dirname, field = 'e1')"
   ]
  },
  {
   "cell_type": "code",
   "execution_count": null,
   "metadata": {},
   "outputs": [],
   "source": []
  }
 ],
 "metadata": {
  "kernelspec": {
   "display_name": "Python 3",
   "language": "python",
   "name": "python3"
  },
  "language_info": {
   "codemirror_mode": {
    "name": "ipython",
    "version": 3
   },
   "file_extension": ".py",
   "mimetype": "text/x-python",
   "name": "python",
   "nbconvert_exporter": "python",
   "pygments_lexer": "ipython3",
   "version": "3.7.1"
  }
 },
 "nbformat": 4,
 "nbformat_minor": 2
}
